{
 "cells": [
  {
   "cell_type": "code",
   "execution_count": 1,
   "id": "06191187-8ef1-41ce-a38a-cbaa1047178b",
   "metadata": {},
   "outputs": [],
   "source": [
    "import pandas as pd\n",
    "import numpy as np\n",
    "import matplotlib.pyplot as plt\n",
    "%matplotlib inline\n",
    "\n",
    "from sklearn import metrics\n",
    "from sklearn.model_selection import train_test_split\n",
    "from sklearn.ensemble import RandomForestClassifier"
   ]
  },
  {
   "cell_type": "code",
   "execution_count": 2,
   "id": "22260bde-9784-4fcc-8fc1-c31190fd2f1c",
   "metadata": {},
   "outputs": [],
   "source": [
    "data = pd.read_csv('../data/model_data/spatial_df/Lassa_spatialdataset_201219separateyears_labconfirmed.csv')\n",
    "data.dropna(inplace=True)"
   ]
  },
  {
   "cell_type": "code",
   "execution_count": 3,
   "id": "6264bd92-353f-4681-b9ee-7926607da70c",
   "metadata": {},
   "outputs": [
    {
     "data": {
      "text/html": [
       "<div>\n",
       "<style scoped>\n",
       "    .dataframe tbody tr th:only-of-type {\n",
       "        vertical-align: middle;\n",
       "    }\n",
       "\n",
       "    .dataframe tbody tr th {\n",
       "        vertical-align: top;\n",
       "    }\n",
       "\n",
       "    .dataframe thead th {\n",
       "        text-align: right;\n",
       "    }\n",
       "</style>\n",
       "<table border=\"1\" class=\"dataframe\">\n",
       "  <thead>\n",
       "    <tr style=\"text-align: right;\">\n",
       "      <th></th>\n",
       "      <th>LGA</th>\n",
       "      <th>Year</th>\n",
       "      <th>admin1Name</th>\n",
       "      <th>Cases</th>\n",
       "      <th>Cases_SuspectedUnconfirmed</th>\n",
       "      <th>Reports_All</th>\n",
       "      <th>Any_Confirmed_Cases</th>\n",
       "      <th>Source</th>\n",
       "      <th>NumDiagCentres</th>\n",
       "      <th>LabDist</th>\n",
       "      <th>...</th>\n",
       "      <th>TotalPop2015_PropUrban</th>\n",
       "      <th>ImprovedHousingPrev_PopWeighted</th>\n",
       "      <th>Cropland_prop_ESA2015</th>\n",
       "      <th>Agri_prop_ESA2015</th>\n",
       "      <th>Urb_prop_ESA2015</th>\n",
       "      <th>Forest_prop_ESA2015</th>\n",
       "      <th>PovertyProp_Mean</th>\n",
       "      <th>PovertyProp_PopWeighted</th>\n",
       "      <th>Hospital_TravelTime</th>\n",
       "      <th>AllHealthFacility_TravelTime</th>\n",
       "    </tr>\n",
       "  </thead>\n",
       "  <tbody>\n",
       "    <tr>\n",
       "      <th>0</th>\n",
       "      <td>Aba North</td>\n",
       "      <td>2012</td>\n",
       "      <td>Abia</td>\n",
       "      <td>0</td>\n",
       "      <td>0</td>\n",
       "      <td>0</td>\n",
       "      <td>0</td>\n",
       "      <td>WER</td>\n",
       "      <td>2</td>\n",
       "      <td>223.150573</td>\n",
       "      <td>...</td>\n",
       "      <td>1.000000</td>\n",
       "      <td>0.768702</td>\n",
       "      <td>0.106061</td>\n",
       "      <td>0.151515</td>\n",
       "      <td>0.848485</td>\n",
       "      <td>0.0</td>\n",
       "      <td>0.334344</td>\n",
       "      <td>0.304860</td>\n",
       "      <td>12.473343</td>\n",
       "      <td>1.109442</td>\n",
       "    </tr>\n",
       "    <tr>\n",
       "      <th>1</th>\n",
       "      <td>Aba North</td>\n",
       "      <td>2013</td>\n",
       "      <td>Abia</td>\n",
       "      <td>1</td>\n",
       "      <td>0</td>\n",
       "      <td>1</td>\n",
       "      <td>1</td>\n",
       "      <td>WER</td>\n",
       "      <td>2</td>\n",
       "      <td>223.150573</td>\n",
       "      <td>...</td>\n",
       "      <td>1.000000</td>\n",
       "      <td>0.768702</td>\n",
       "      <td>0.106061</td>\n",
       "      <td>0.151515</td>\n",
       "      <td>0.848485</td>\n",
       "      <td>0.0</td>\n",
       "      <td>0.334344</td>\n",
       "      <td>0.304860</td>\n",
       "      <td>12.473343</td>\n",
       "      <td>1.109442</td>\n",
       "    </tr>\n",
       "    <tr>\n",
       "      <th>2</th>\n",
       "      <td>Aba North</td>\n",
       "      <td>2014</td>\n",
       "      <td>Abia</td>\n",
       "      <td>0</td>\n",
       "      <td>0</td>\n",
       "      <td>0</td>\n",
       "      <td>0</td>\n",
       "      <td>WER</td>\n",
       "      <td>2</td>\n",
       "      <td>223.150573</td>\n",
       "      <td>...</td>\n",
       "      <td>1.000000</td>\n",
       "      <td>0.768702</td>\n",
       "      <td>0.106061</td>\n",
       "      <td>0.151515</td>\n",
       "      <td>0.848485</td>\n",
       "      <td>0.0</td>\n",
       "      <td>0.334344</td>\n",
       "      <td>0.304860</td>\n",
       "      <td>12.473343</td>\n",
       "      <td>1.109442</td>\n",
       "    </tr>\n",
       "    <tr>\n",
       "      <th>3</th>\n",
       "      <td>Aba North</td>\n",
       "      <td>2015</td>\n",
       "      <td>Abia</td>\n",
       "      <td>0</td>\n",
       "      <td>0</td>\n",
       "      <td>0</td>\n",
       "      <td>0</td>\n",
       "      <td>WER</td>\n",
       "      <td>2</td>\n",
       "      <td>223.150573</td>\n",
       "      <td>...</td>\n",
       "      <td>1.000000</td>\n",
       "      <td>0.768702</td>\n",
       "      <td>0.106061</td>\n",
       "      <td>0.151515</td>\n",
       "      <td>0.848485</td>\n",
       "      <td>0.0</td>\n",
       "      <td>0.334344</td>\n",
       "      <td>0.304860</td>\n",
       "      <td>12.473343</td>\n",
       "      <td>1.109442</td>\n",
       "    </tr>\n",
       "    <tr>\n",
       "      <th>4</th>\n",
       "      <td>Aba North</td>\n",
       "      <td>2016</td>\n",
       "      <td>Abia</td>\n",
       "      <td>0</td>\n",
       "      <td>0</td>\n",
       "      <td>0</td>\n",
       "      <td>0</td>\n",
       "      <td>WER</td>\n",
       "      <td>2</td>\n",
       "      <td>223.150573</td>\n",
       "      <td>...</td>\n",
       "      <td>1.000000</td>\n",
       "      <td>0.768702</td>\n",
       "      <td>0.106061</td>\n",
       "      <td>0.151515</td>\n",
       "      <td>0.848485</td>\n",
       "      <td>0.0</td>\n",
       "      <td>0.334344</td>\n",
       "      <td>0.304860</td>\n",
       "      <td>12.473343</td>\n",
       "      <td>1.109442</td>\n",
       "    </tr>\n",
       "    <tr>\n",
       "      <th>...</th>\n",
       "      <td>...</td>\n",
       "      <td>...</td>\n",
       "      <td>...</td>\n",
       "      <td>...</td>\n",
       "      <td>...</td>\n",
       "      <td>...</td>\n",
       "      <td>...</td>\n",
       "      <td>...</td>\n",
       "      <td>...</td>\n",
       "      <td>...</td>\n",
       "      <td>...</td>\n",
       "      <td>...</td>\n",
       "      <td>...</td>\n",
       "      <td>...</td>\n",
       "      <td>...</td>\n",
       "      <td>...</td>\n",
       "      <td>...</td>\n",
       "      <td>...</td>\n",
       "      <td>...</td>\n",
       "      <td>...</td>\n",
       "      <td>...</td>\n",
       "    </tr>\n",
       "    <tr>\n",
       "      <th>6187</th>\n",
       "      <td>Zuru</td>\n",
       "      <td>2015</td>\n",
       "      <td>Kebbi</td>\n",
       "      <td>0</td>\n",
       "      <td>0</td>\n",
       "      <td>0</td>\n",
       "      <td>0</td>\n",
       "      <td>WER</td>\n",
       "      <td>2</td>\n",
       "      <td>530.311527</td>\n",
       "      <td>...</td>\n",
       "      <td>0.428594</td>\n",
       "      <td>0.181525</td>\n",
       "      <td>0.957888</td>\n",
       "      <td>0.975668</td>\n",
       "      <td>0.006417</td>\n",
       "      <td>0.0</td>\n",
       "      <td>0.716060</td>\n",
       "      <td>0.702661</td>\n",
       "      <td>46.583141</td>\n",
       "      <td>33.178921</td>\n",
       "    </tr>\n",
       "    <tr>\n",
       "      <th>6188</th>\n",
       "      <td>Zuru</td>\n",
       "      <td>2016</td>\n",
       "      <td>Kebbi</td>\n",
       "      <td>0</td>\n",
       "      <td>2</td>\n",
       "      <td>2</td>\n",
       "      <td>0</td>\n",
       "      <td>WER</td>\n",
       "      <td>2</td>\n",
       "      <td>530.311527</td>\n",
       "      <td>...</td>\n",
       "      <td>0.428594</td>\n",
       "      <td>0.181525</td>\n",
       "      <td>0.957888</td>\n",
       "      <td>0.975668</td>\n",
       "      <td>0.006417</td>\n",
       "      <td>0.0</td>\n",
       "      <td>0.716060</td>\n",
       "      <td>0.702661</td>\n",
       "      <td>46.583141</td>\n",
       "      <td>33.178921</td>\n",
       "    </tr>\n",
       "    <tr>\n",
       "      <th>6189</th>\n",
       "      <td>Zuru</td>\n",
       "      <td>2017</td>\n",
       "      <td>Kebbi</td>\n",
       "      <td>0</td>\n",
       "      <td>0</td>\n",
       "      <td>0</td>\n",
       "      <td>0</td>\n",
       "      <td>SitRep_1</td>\n",
       "      <td>3</td>\n",
       "      <td>361.242164</td>\n",
       "      <td>...</td>\n",
       "      <td>0.428594</td>\n",
       "      <td>0.181525</td>\n",
       "      <td>0.957888</td>\n",
       "      <td>0.975668</td>\n",
       "      <td>0.006417</td>\n",
       "      <td>0.0</td>\n",
       "      <td>0.716060</td>\n",
       "      <td>0.702661</td>\n",
       "      <td>46.583141</td>\n",
       "      <td>33.178921</td>\n",
       "    </tr>\n",
       "    <tr>\n",
       "      <th>6190</th>\n",
       "      <td>Zuru</td>\n",
       "      <td>2018</td>\n",
       "      <td>Kebbi</td>\n",
       "      <td>0</td>\n",
       "      <td>0</td>\n",
       "      <td>0</td>\n",
       "      <td>0</td>\n",
       "      <td>SitRep_2</td>\n",
       "      <td>4</td>\n",
       "      <td>361.242164</td>\n",
       "      <td>...</td>\n",
       "      <td>0.428594</td>\n",
       "      <td>0.181525</td>\n",
       "      <td>0.957888</td>\n",
       "      <td>0.975668</td>\n",
       "      <td>0.006417</td>\n",
       "      <td>0.0</td>\n",
       "      <td>0.716060</td>\n",
       "      <td>0.702661</td>\n",
       "      <td>46.583141</td>\n",
       "      <td>33.178921</td>\n",
       "    </tr>\n",
       "    <tr>\n",
       "      <th>6191</th>\n",
       "      <td>Zuru</td>\n",
       "      <td>2019</td>\n",
       "      <td>Kebbi</td>\n",
       "      <td>1</td>\n",
       "      <td>0</td>\n",
       "      <td>1</td>\n",
       "      <td>1</td>\n",
       "      <td>SitRep_2</td>\n",
       "      <td>5</td>\n",
       "      <td>361.242164</td>\n",
       "      <td>...</td>\n",
       "      <td>0.428594</td>\n",
       "      <td>0.181525</td>\n",
       "      <td>0.957888</td>\n",
       "      <td>0.975668</td>\n",
       "      <td>0.006417</td>\n",
       "      <td>0.0</td>\n",
       "      <td>0.716060</td>\n",
       "      <td>0.702661</td>\n",
       "      <td>46.583141</td>\n",
       "      <td>33.178921</td>\n",
       "    </tr>\n",
       "  </tbody>\n",
       "</table>\n",
       "<p>6192 rows × 47 columns</p>\n",
       "</div>"
      ],
      "text/plain": [
       "            LGA  Year admin1Name  Cases  Cases_SuspectedUnconfirmed  \\\n",
       "0     Aba North  2012       Abia      0                           0   \n",
       "1     Aba North  2013       Abia      1                           0   \n",
       "2     Aba North  2014       Abia      0                           0   \n",
       "3     Aba North  2015       Abia      0                           0   \n",
       "4     Aba North  2016       Abia      0                           0   \n",
       "...         ...   ...        ...    ...                         ...   \n",
       "6187       Zuru  2015      Kebbi      0                           0   \n",
       "6188       Zuru  2016      Kebbi      0                           2   \n",
       "6189       Zuru  2017      Kebbi      0                           0   \n",
       "6190       Zuru  2018      Kebbi      0                           0   \n",
       "6191       Zuru  2019      Kebbi      1                           0   \n",
       "\n",
       "      Reports_All  Any_Confirmed_Cases    Source  NumDiagCentres     LabDist  \\\n",
       "0               0                    0       WER               2  223.150573   \n",
       "1               1                    1       WER               2  223.150573   \n",
       "2               0                    0       WER               2  223.150573   \n",
       "3               0                    0       WER               2  223.150573   \n",
       "4               0                    0       WER               2  223.150573   \n",
       "...           ...                  ...       ...             ...         ...   \n",
       "6187            0                    0       WER               2  530.311527   \n",
       "6188            2                    0       WER               2  530.311527   \n",
       "6189            0                    0  SitRep_1               3  361.242164   \n",
       "6190            0                    0  SitRep_2               4  361.242164   \n",
       "6191            1                    1  SitRep_2               5  361.242164   \n",
       "\n",
       "      ...  TotalPop2015_PropUrban  ImprovedHousingPrev_PopWeighted  \\\n",
       "0     ...                1.000000                         0.768702   \n",
       "1     ...                1.000000                         0.768702   \n",
       "2     ...                1.000000                         0.768702   \n",
       "3     ...                1.000000                         0.768702   \n",
       "4     ...                1.000000                         0.768702   \n",
       "...   ...                     ...                              ...   \n",
       "6187  ...                0.428594                         0.181525   \n",
       "6188  ...                0.428594                         0.181525   \n",
       "6189  ...                0.428594                         0.181525   \n",
       "6190  ...                0.428594                         0.181525   \n",
       "6191  ...                0.428594                         0.181525   \n",
       "\n",
       "      Cropland_prop_ESA2015  Agri_prop_ESA2015  Urb_prop_ESA2015  \\\n",
       "0                  0.106061           0.151515          0.848485   \n",
       "1                  0.106061           0.151515          0.848485   \n",
       "2                  0.106061           0.151515          0.848485   \n",
       "3                  0.106061           0.151515          0.848485   \n",
       "4                  0.106061           0.151515          0.848485   \n",
       "...                     ...                ...               ...   \n",
       "6187               0.957888           0.975668          0.006417   \n",
       "6188               0.957888           0.975668          0.006417   \n",
       "6189               0.957888           0.975668          0.006417   \n",
       "6190               0.957888           0.975668          0.006417   \n",
       "6191               0.957888           0.975668          0.006417   \n",
       "\n",
       "      Forest_prop_ESA2015  PovertyProp_Mean  PovertyProp_PopWeighted  \\\n",
       "0                     0.0          0.334344                 0.304860   \n",
       "1                     0.0          0.334344                 0.304860   \n",
       "2                     0.0          0.334344                 0.304860   \n",
       "3                     0.0          0.334344                 0.304860   \n",
       "4                     0.0          0.334344                 0.304860   \n",
       "...                   ...               ...                      ...   \n",
       "6187                  0.0          0.716060                 0.702661   \n",
       "6188                  0.0          0.716060                 0.702661   \n",
       "6189                  0.0          0.716060                 0.702661   \n",
       "6190                  0.0          0.716060                 0.702661   \n",
       "6191                  0.0          0.716060                 0.702661   \n",
       "\n",
       "      Hospital_TravelTime  AllHealthFacility_TravelTime  \n",
       "0               12.473343                      1.109442  \n",
       "1               12.473343                      1.109442  \n",
       "2               12.473343                      1.109442  \n",
       "3               12.473343                      1.109442  \n",
       "4               12.473343                      1.109442  \n",
       "...                   ...                           ...  \n",
       "6187            46.583141                     33.178921  \n",
       "6188            46.583141                     33.178921  \n",
       "6189            46.583141                     33.178921  \n",
       "6190            46.583141                     33.178921  \n",
       "6191            46.583141                     33.178921  \n",
       "\n",
       "[6192 rows x 47 columns]"
      ]
     },
     "execution_count": 3,
     "metadata": {},
     "output_type": "execute_result"
    }
   ],
   "source": [
    "data"
   ]
  },
  {
   "cell_type": "code",
   "execution_count": 4,
   "id": "3c652e81",
   "metadata": {},
   "outputs": [],
   "source": [
    "# Creating LGA names set and then assigning them their indices as values\n",
    "lga_names = set(data['LGA'])\n",
    "lga_replace_dict = {value: i for i, value in enumerate(lga_names)}\n",
    "\n",
    "# Creating Year names set and then assigning them their indices as values\n",
    "year_names = set(data['Year'])\n",
    "year_replace_dict = {value: i for i, value in enumerate(year_names)}\n",
    "\n",
    "# Creating Admin names set and then assigning them their indices as values\n",
    "administration_names = set(data['admin1Name'])\n",
    "administration_replace_dict = {value: i for i, value in enumerate(administration_names)}\n",
    "\n",
    "# Creating Source names set and then assigning them their indices as values\n",
    "source_names = set(data['Source'])\n",
    "source_replace_dict = {value: i for i, value in enumerate(source_names)}"
   ]
  },
  {
   "cell_type": "code",
   "execution_count": 5,
   "id": "79ac941a",
   "metadata": {},
   "outputs": [],
   "source": [
    "# Replaces string values for integer values in dataset\n",
    "data = data.replace({'LGA':lga_replace_dict, \n",
    "                     'Year': year_replace_dict,\n",
    "                     'admin1Name': administration_replace_dict,\n",
    "                     'Source': source_replace_dict})"
   ]
  },
  {
   "cell_type": "code",
   "execution_count": 6,
   "id": "1623fbc2-9d92-4d29-b0fb-e9f5e7b69b49",
   "metadata": {},
   "outputs": [],
   "source": [
    "# Features that are already normalized\n",
    "ignore_norm_cols_array = [\"AgriProp_ESA\", \"UrbanProp_ESA\", \"ForestProp_ESA\", \"TempMonthlyCoefv_201118_NOAA\",\n",
    "                     \"TotalPop2015_PropUrban\", \"ImprovedHousingPrev_PopWeighted\", \"Cropland_prop_ESA2015\",\n",
    "                     \"Agri_prop_ESA2015\", \"Urb_prop_ESA2015\", \"Forest_prop_ESA2015\", \"PovertyProp_Mean\",\n",
    "                     \"PovertyProp_PopWeighted\"]\n",
    "\n",
    "# Normalize the data\n",
    "for heading in data.columns:  \n",
    "  if heading not in ignore_norm_cols_array:\n",
    "    data[heading] = ( data[heading] - ( min(data[heading]) ) ) / ( max(data[heading]) - min(data[heading]) )\n",
    "\n",
    "# Remove these columns\n",
    "data = data.loc[:, ~data.columns.isin(['Cases', 'Cases_SuspectedUnconfirmed', 'Source', 'x', 'y', 'Reports_All'])]"
   ]
  },
  {
   "cell_type": "code",
   "execution_count": 7,
   "id": "350cdb0f-679b-45a9-9c80-a69558ea4672",
   "metadata": {},
   "outputs": [],
   "source": [
    "# Set target variable as only the confirmed cases of LF; 'Any_Confirmed_Cases' is a binary class\n",
    "x = data.iloc[:, data.columns != 'Any_Confirmed_Cases']\n",
    "y = data.iloc[:, data.columns == 'Any_Confirmed_Cases']\n",
    "\n",
    "x_train, x_test, y_train, y_test = train_test_split(x, y, random_state=42)"
   ]
  },
  {
   "cell_type": "code",
   "execution_count": 10,
   "id": "ac930df7-5a33-4730-95e1-89fe34d21c2c",
   "metadata": {},
   "outputs": [
    {
     "name": "stderr",
     "output_type": "stream",
     "text": [
      "/var/folders/9m/twj41p7s67qflftmzl1wbt_w0000gn/T/ipykernel_48395/2856880842.py:5: DataConversionWarning: A column-vector y was passed when a 1d array was expected. Please change the shape of y to (n_samples,), for example using ravel().\n",
      "  clf.fit(x_train, y_train)\n"
     ]
    },
    {
     "data": {
      "text/html": [
       "<style>#sk-container-id-2 {color: black;background-color: white;}#sk-container-id-2 pre{padding: 0;}#sk-container-id-2 div.sk-toggleable {background-color: white;}#sk-container-id-2 label.sk-toggleable__label {cursor: pointer;display: block;width: 100%;margin-bottom: 0;padding: 0.3em;box-sizing: border-box;text-align: center;}#sk-container-id-2 label.sk-toggleable__label-arrow:before {content: \"▸\";float: left;margin-right: 0.25em;color: #696969;}#sk-container-id-2 label.sk-toggleable__label-arrow:hover:before {color: black;}#sk-container-id-2 div.sk-estimator:hover label.sk-toggleable__label-arrow:before {color: black;}#sk-container-id-2 div.sk-toggleable__content {max-height: 0;max-width: 0;overflow: hidden;text-align: left;background-color: #f0f8ff;}#sk-container-id-2 div.sk-toggleable__content pre {margin: 0.2em;color: black;border-radius: 0.25em;background-color: #f0f8ff;}#sk-container-id-2 input.sk-toggleable__control:checked~div.sk-toggleable__content {max-height: 200px;max-width: 100%;overflow: auto;}#sk-container-id-2 input.sk-toggleable__control:checked~label.sk-toggleable__label-arrow:before {content: \"▾\";}#sk-container-id-2 div.sk-estimator input.sk-toggleable__control:checked~label.sk-toggleable__label {background-color: #d4ebff;}#sk-container-id-2 div.sk-label input.sk-toggleable__control:checked~label.sk-toggleable__label {background-color: #d4ebff;}#sk-container-id-2 input.sk-hidden--visually {border: 0;clip: rect(1px 1px 1px 1px);clip: rect(1px, 1px, 1px, 1px);height: 1px;margin: -1px;overflow: hidden;padding: 0;position: absolute;width: 1px;}#sk-container-id-2 div.sk-estimator {font-family: monospace;background-color: #f0f8ff;border: 1px dotted black;border-radius: 0.25em;box-sizing: border-box;margin-bottom: 0.5em;}#sk-container-id-2 div.sk-estimator:hover {background-color: #d4ebff;}#sk-container-id-2 div.sk-parallel-item::after {content: \"\";width: 100%;border-bottom: 1px solid gray;flex-grow: 1;}#sk-container-id-2 div.sk-label:hover label.sk-toggleable__label {background-color: #d4ebff;}#sk-container-id-2 div.sk-serial::before {content: \"\";position: absolute;border-left: 1px solid gray;box-sizing: border-box;top: 0;bottom: 0;left: 50%;z-index: 0;}#sk-container-id-2 div.sk-serial {display: flex;flex-direction: column;align-items: center;background-color: white;padding-right: 0.2em;padding-left: 0.2em;position: relative;}#sk-container-id-2 div.sk-item {position: relative;z-index: 1;}#sk-container-id-2 div.sk-parallel {display: flex;align-items: stretch;justify-content: center;background-color: white;position: relative;}#sk-container-id-2 div.sk-item::before, #sk-container-id-2 div.sk-parallel-item::before {content: \"\";position: absolute;border-left: 1px solid gray;box-sizing: border-box;top: 0;bottom: 0;left: 50%;z-index: -1;}#sk-container-id-2 div.sk-parallel-item {display: flex;flex-direction: column;z-index: 1;position: relative;background-color: white;}#sk-container-id-2 div.sk-parallel-item:first-child::after {align-self: flex-end;width: 50%;}#sk-container-id-2 div.sk-parallel-item:last-child::after {align-self: flex-start;width: 50%;}#sk-container-id-2 div.sk-parallel-item:only-child::after {width: 0;}#sk-container-id-2 div.sk-dashed-wrapped {border: 1px dashed gray;margin: 0 0.4em 0.5em 0.4em;box-sizing: border-box;padding-bottom: 0.4em;background-color: white;}#sk-container-id-2 div.sk-label label {font-family: monospace;font-weight: bold;display: inline-block;line-height: 1.2em;}#sk-container-id-2 div.sk-label-container {text-align: center;}#sk-container-id-2 div.sk-container {/* jupyter's `normalize.less` sets `[hidden] { display: none; }` but bootstrap.min.css set `[hidden] { display: none !important; }` so we also need the `!important` here to be able to override the default hidden behavior on the sphinx rendered scikit-learn.org. See: https://github.com/scikit-learn/scikit-learn/issues/21755 */display: inline-block !important;position: relative;}#sk-container-id-2 div.sk-text-repr-fallback {display: none;}</style><div id=\"sk-container-id-2\" class=\"sk-top-container\"><div class=\"sk-text-repr-fallback\"><pre>RandomForestClassifier(max_depth=8, min_samples_split=10, random_state=5)</pre><b>In a Jupyter environment, please rerun this cell to show the HTML representation or trust the notebook. <br />On GitHub, the HTML representation is unable to render, please try loading this page with nbviewer.org.</b></div><div class=\"sk-container\" hidden><div class=\"sk-item\"><div class=\"sk-estimator sk-toggleable\"><input class=\"sk-toggleable__control sk-hidden--visually\" id=\"sk-estimator-id-2\" type=\"checkbox\" checked><label for=\"sk-estimator-id-2\" class=\"sk-toggleable__label sk-toggleable__label-arrow\">RandomForestClassifier</label><div class=\"sk-toggleable__content\"><pre>RandomForestClassifier(max_depth=8, min_samples_split=10, random_state=5)</pre></div></div></div></div></div>"
      ],
      "text/plain": [
       "RandomForestClassifier(max_depth=8, min_samples_split=10, random_state=5)"
      ]
     },
     "execution_count": 10,
     "metadata": {},
     "output_type": "execute_result"
    }
   ],
   "source": [
    "clf = RandomForestClassifier(criterion='gini',\n",
    "                            max_depth=8,\n",
    "                            min_samples_split=10,\n",
    "                            random_state=5)\n",
    "clf.fit(x_train, y_train)"
   ]
  },
  {
   "cell_type": "code",
   "execution_count": 12,
   "id": "4bc45e3e-5d71-4c79-a32f-455c36c51134",
   "metadata": {},
   "outputs": [
    {
     "data": {
      "text/plain": [
       "array([0.01170776, 0.04045907, 0.06555492, 0.03582203, 0.07646301,\n",
       "       0.06227927, 0.03456668, 0.01439786, 0.02368621, 0.02300516,\n",
       "       0.01279272, 0.01907927, 0.01610651, 0.02009908, 0.02223985,\n",
       "       0.05737262, 0.0167776 , 0.03107185, 0.02459687, 0.02460993,\n",
       "       0.0138784 , 0.01861354, 0.01770671, 0.01412254, 0.01524363,\n",
       "       0.01201257, 0.02800738, 0.01146189, 0.01887764, 0.03876075,\n",
       "       0.01296074, 0.01951851, 0.01041942, 0.0137913 , 0.01835151,\n",
       "       0.01798484, 0.03283336, 0.02834078, 0.01031206, 0.01411418])"
      ]
     },
     "execution_count": 12,
     "metadata": {},
     "output_type": "execute_result"
    }
   ],
   "source": [
    "clf.feature_importances_"
   ]
  },
  {
   "cell_type": "code",
   "execution_count": 13,
   "id": "e7ec2bf9-c514-4af1-a677-9d1a7176e969",
   "metadata": {},
   "outputs": [
    {
     "data": {
      "text/plain": [
       "array([0., 0., 0., ..., 0., 0., 0.])"
      ]
     },
     "execution_count": 13,
     "metadata": {},
     "output_type": "execute_result"
    }
   ],
   "source": [
    "y_pred = clf.predict(x_test)\n",
    "y_pred"
   ]
  },
  {
   "cell_type": "code",
   "execution_count": 14,
   "id": "1a5fd516-1380-4a24-b2c7-9400cd8af1d9",
   "metadata": {},
   "outputs": [
    {
     "data": {
      "text/plain": [
       "array([[1470,    2],\n",
       "       [  61,   15]])"
      ]
     },
     "execution_count": 14,
     "metadata": {},
     "output_type": "execute_result"
    }
   ],
   "source": [
    "# C_{0,0} = TN = 1470\n",
    "# C_{1,0} = FN = 61\n",
    "# C_{1,1} = TP = 15\n",
    "# C_{0,1} = FP = 2\n",
    "from sklearn.metrics import confusion_matrix\n",
    "confusion_matrix(y_test, y_pred)"
   ]
  },
  {
   "cell_type": "code",
   "execution_count": 15,
   "id": "82c7e8d4",
   "metadata": {},
   "outputs": [
    {
     "data": {
      "text/plain": [
       "0.32258064516129026"
      ]
     },
     "execution_count": 15,
     "metadata": {},
     "output_type": "execute_result"
    }
   ],
   "source": [
    "from sklearn.metrics import f1_score\n",
    "f1_score(y_test, y_pred)"
   ]
  },
  {
   "cell_type": "code",
   "execution_count": 55,
   "id": "da1740bf-358c-4d76-ae59-31007599b8f5",
   "metadata": {},
   "outputs": [
    {
     "data": {
      "text/plain": [
       "0.9580103359173127"
      ]
     },
     "execution_count": 55,
     "metadata": {},
     "output_type": "execute_result"
    }
   ],
   "source": [
    "from sklearn.metrics import accuracy_score\n",
    "accuracy_score(y_test, y_pred)"
   ]
  },
  {
   "cell_type": "code",
   "execution_count": 56,
   "id": "869109f8-c071-4788-bb69-d0f8f837b330",
   "metadata": {},
   "outputs": [
    {
     "name": "stderr",
     "output_type": "stream",
     "text": [
      "/opt/homebrew/lib/python3.10/site-packages/sklearn/model_selection/_validation.py:686: DataConversionWarning: A column-vector y was passed when a 1d array was expected. Please change the shape of y to (n_samples,), for example using ravel().\n",
      "  estimator.fit(X_train, y_train, **fit_params)\n",
      "/opt/homebrew/lib/python3.10/site-packages/sklearn/model_selection/_validation.py:686: DataConversionWarning: A column-vector y was passed when a 1d array was expected. Please change the shape of y to (n_samples,), for example using ravel().\n",
      "  estimator.fit(X_train, y_train, **fit_params)\n",
      "/opt/homebrew/lib/python3.10/site-packages/sklearn/model_selection/_validation.py:686: DataConversionWarning: A column-vector y was passed when a 1d array was expected. Please change the shape of y to (n_samples,), for example using ravel().\n",
      "  estimator.fit(X_train, y_train, **fit_params)\n",
      "/opt/homebrew/lib/python3.10/site-packages/sklearn/model_selection/_validation.py:686: DataConversionWarning: A column-vector y was passed when a 1d array was expected. Please change the shape of y to (n_samples,), for example using ravel().\n",
      "  estimator.fit(X_train, y_train, **fit_params)\n",
      "/opt/homebrew/lib/python3.10/site-packages/sklearn/model_selection/_validation.py:686: DataConversionWarning: A column-vector y was passed when a 1d array was expected. Please change the shape of y to (n_samples,), for example using ravel().\n",
      "  estimator.fit(X_train, y_train, **fit_params)\n",
      "/opt/homebrew/lib/python3.10/site-packages/sklearn/model_selection/_validation.py:686: DataConversionWarning: A column-vector y was passed when a 1d array was expected. Please change the shape of y to (n_samples,), for example using ravel().\n",
      "  estimator.fit(X_train, y_train, **fit_params)\n",
      "/opt/homebrew/lib/python3.10/site-packages/sklearn/model_selection/_validation.py:686: DataConversionWarning: A column-vector y was passed when a 1d array was expected. Please change the shape of y to (n_samples,), for example using ravel().\n",
      "  estimator.fit(X_train, y_train, **fit_params)\n",
      "/opt/homebrew/lib/python3.10/site-packages/sklearn/model_selection/_validation.py:686: DataConversionWarning: A column-vector y was passed when a 1d array was expected. Please change the shape of y to (n_samples,), for example using ravel().\n",
      "  estimator.fit(X_train, y_train, **fit_params)\n",
      "/opt/homebrew/lib/python3.10/site-packages/sklearn/model_selection/_validation.py:686: DataConversionWarning: A column-vector y was passed when a 1d array was expected. Please change the shape of y to (n_samples,), for example using ravel().\n",
      "  estimator.fit(X_train, y_train, **fit_params)\n",
      "/opt/homebrew/lib/python3.10/site-packages/sklearn/model_selection/_validation.py:686: DataConversionWarning: A column-vector y was passed when a 1d array was expected. Please change the shape of y to (n_samples,), for example using ravel().\n",
      "  estimator.fit(X_train, y_train, **fit_params)\n"
     ]
    },
    {
     "data": {
      "text/plain": [
       "array([0.94408602, 0.94623656, 0.95268817, 0.9483871 , 0.95474138,\n",
       "       0.94827586, 0.94827586, 0.94612069, 0.95689655, 0.94396552])"
      ]
     },
     "execution_count": 56,
     "metadata": {},
     "output_type": "execute_result"
    }
   ],
   "source": [
    "from sklearn.model_selection import cross_val_score\n",
    "cross_val_score(clf, x_train, y_train, cv=10)"
   ]
  },
  {
   "cell_type": "code",
   "execution_count": 57,
   "id": "e21582f1-2e57-4bf3-bab2-8bed2dec1764",
   "metadata": {},
   "outputs": [
    {
     "name": "stdout",
     "output_type": "stream",
     "text": [
      "              precision    recall  f1-score   support\n",
      "\n",
      "         0.0       1.00      0.96      0.98      1531\n",
      "         1.0       0.18      0.82      0.30        17\n",
      "\n",
      "    accuracy                           0.96      1548\n",
      "   macro avg       0.59      0.89      0.64      1548\n",
      "weighted avg       0.99      0.96      0.97      1548\n",
      "\n"
     ]
    }
   ],
   "source": [
    "from sklearn.metrics import classification_report\n",
    "print(classification_report(y_pred, y_test))"
   ]
  },
  {
   "cell_type": "code",
   "execution_count": 68,
   "id": "076bbc06-07e3-4bb1-be26-e8a00ca2c560",
   "metadata": {},
   "outputs": [
    {
     "data": {
      "image/png": "[encoded data removed]",
      "text/plain": [
       "<Figure size 1080x1080 with 1 Axes>"
      ]
     },
     "metadata": {
      "needs_background": "light"
     },
     "output_type": "display_data"
    }
   ],
   "source": [
    "features = data.columns\n",
    "importances = clf.feature_importances_\n",
    "indices = np.argsort(importances)\n",
    "\n",
    "fig, ax = plt.subplots(figsize=(15, 15))\n",
    "\n",
    "ax.set_title(\"Feature Importances\")\n",
    "ax.barh(range(len(indices)), importances[indices], color='b', align='center')\n",
    "ax.set_yticks(range(len(indices)), [features[i] for i in indices])\n",
    "ax.set_xlabel('Relative Importance')\n",
    "plt.show()"
   ]
  },
  {
   "cell_type": "code",
   "execution_count": 74,
   "id": "94ff4594-c77a-4bc9-b8d9-e2cb7dbba202",
   "metadata": {},
   "outputs": [],
   "source": [
    "from sklearn.metrics import roc_curve\n",
    "yer = clf.predict_proba(x_test)\n",
    "y_pred_proba = clf.predict_proba(x_test)[:, 1]\n",
    "\n",
    "fpr, tpr, thresholds = roc_curve(y_test, y_pred_proba)"
   ]
  },
  {
   "cell_type": "code",
   "execution_count": 71,
   "id": "754f0f8e-ca37-4fcf-9554-9fcb7ff3fca2",
   "metadata": {},
   "outputs": [
    {
     "data": {
      "image/png": "[encoded data removed]",
      "text/plain": [
       "<Figure size 432x288 with 1 Axes>"
      ]
     },
     "metadata": {
      "needs_background": "light"
     },
     "output_type": "display_data"
    }
   ],
   "source": [
    "plt.plot(fpr, tpr, color='orange', label='ROC')\n",
    "plt.plot([0, 1], [0, 1], color='darkblue', linestyle='--', label='Random Guessing')\n",
    "plt.xlabel('False Positive Rate')\n",
    "plt.ylabel('True Positive Rate')\n",
    "plt.title('Receiver Operating Characteristic (ROC) Curve')\n",
    "plt.legend()\n",
    "plt.show()"
   ]
  },
  {
   "cell_type": "code",
   "execution_count": null,
   "id": "522b3786",
   "metadata": {},
   "outputs": [],
   "source": []
  }
 ],
 "metadata": {
  "kernelspec": {
   "display_name": "venv",
   "language": "python",
   "name": "venv"
  },
  "language_info": {
   "codemirror_mode": {
    "name": "ipython",
    "version": 3
   },
   "file_extension": ".py",
   "mimetype": "text/x-python",
   "name": "python",
   "nbconvert_exporter": "python",
   "pygments_lexer": "ipython3",
   "version": "3.10.6"
  }
 },
 "nbformat": 4,
 "nbformat_minor": 5
}
